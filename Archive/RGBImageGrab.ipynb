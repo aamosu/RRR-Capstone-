{
 "cells": [
  {
   "cell_type": "code",
   "execution_count": 38,
   "metadata": {},
   "outputs": [],
   "source": [
    "\n",
    "#importing numpy \n",
    "import sys\n",
    "import numpy as np \n",
    "np.set_printoptions(threshold=sys.maxsize)\n",
    "\n",
    "# importing cv2 \n",
    "import cv2  \n",
    "\n",
    "# path \n",
    "path = r'C:\\Users\\Student\\Downloads\\LoRaTestImg.png'\n",
    "  \n",
    "# Reading an image in default mode \n",
    "image = cv2.imread(path) \n",
    "  \n",
    "# Window name in which image is displayed \n",
    "window_name = 'image'\n",
    "  \n",
    "# Using cv2.imshow() method \n",
    "# Displaying the image \n",
    "cv2.imshow(window_name, image) \n",
    "\n",
    "# waits for user to press any key \n",
    "# (this is necessary to avoid Python kernel form crashing) \n",
    "cv2.waitKey(0) \n",
    "  \n",
    "# closing all open windows \n",
    "cv2.destroyAllWindows() \n",
    "\n",
    "#Blank Image\n",
    "recImg= np.zeros((len(image),len(image[0]),3), np.uint8)\n",
    "\n",
    "#Test Array for packet \n",
    "testArr= np.empty((len(image),len(image[0]),3))\n"
   ]
  },
  {
   "cell_type": "code",
   "execution_count": 40,
   "metadata": {},
   "outputs": [
    {
     "ename": "TypeError",
     "evalue": "object of type 'numpy.float64' has no len()",
     "output_type": "error",
     "traceback": [
      "\u001b[1;31m---------------------------------------------------------------------------\u001b[0m",
      "\u001b[1;31mTypeError\u001b[0m                                 Traceback (most recent call last)",
      "\u001b[1;32mc:\\Users\\Student\\Downloads\\RGBImageGrab.ipynb Cell 2\u001b[0m line \u001b[0;36m3\n\u001b[0;32m     <a href='vscode-notebook-cell:/c%3A/Users/Student/Downloads/RGBImageGrab.ipynb#W6sZmlsZQ%3D%3D?line=22'>23</a>\u001b[0m     row\u001b[39m=\u001b[39mrow\u001b[39m+\u001b[39m\u001b[39m1\u001b[39m\n\u001b[0;32m     <a href='vscode-notebook-cell:/c%3A/Users/Student/Downloads/RGBImageGrab.ipynb#W6sZmlsZQ%3D%3D?line=23'>24</a>\u001b[0m     \u001b[39m#col=col+1\u001b[39;00m\n\u001b[0;32m     <a href='vscode-notebook-cell:/c%3A/Users/Student/Downloads/RGBImageGrab.ipynb#W6sZmlsZQ%3D%3D?line=24'>25</a>\u001b[0m \n\u001b[0;32m     <a href='vscode-notebook-cell:/c%3A/Users/Student/Downloads/RGBImageGrab.ipynb#W6sZmlsZQ%3D%3D?line=25'>26</a>\u001b[0m     \u001b[39m#except KeyboardInterrupt:\u001b[39;00m\n\u001b[0;32m     <a href='vscode-notebook-cell:/c%3A/Users/Student/Downloads/RGBImageGrab.ipynb#W6sZmlsZQ%3D%3D?line=26'>27</a>\u001b[0m      \u001b[39m#   print(\"Exit\")\u001b[39;00m\n\u001b[0;32m     <a href='vscode-notebook-cell:/c%3A/Users/Student/Downloads/RGBImageGrab.ipynb#W6sZmlsZQ%3D%3D?line=27'>28</a>\u001b[0m \n\u001b[0;32m     <a href='vscode-notebook-cell:/c%3A/Users/Student/Downloads/RGBImageGrab.ipynb#W6sZmlsZQ%3D%3D?line=28'>29</a>\u001b[0m     \u001b[39m#if row == len(image):\u001b[39;00m\n\u001b[1;32m---> <a href='vscode-notebook-cell:/c%3A/Users/Student/Downloads/RGBImageGrab.ipynb#W6sZmlsZQ%3D%3D?line=29'>30</a>\u001b[0m     \u001b[39mif\u001b[39;00m row \u001b[39m==\u001b[39m \u001b[39mlen\u001b[39;49m(testArr[\u001b[39m0\u001b[39;49m]):\n\u001b[0;32m     <a href='vscode-notebook-cell:/c%3A/Users/Student/Downloads/RGBImageGrab.ipynb#W6sZmlsZQ%3D%3D?line=30'>31</a>\u001b[0m         \u001b[39mbreak\u001b[39;00m;\n\u001b[0;32m     <a href='vscode-notebook-cell:/c%3A/Users/Student/Downloads/RGBImageGrab.ipynb#W6sZmlsZQ%3D%3D?line=31'>32</a>\u001b[0m \u001b[39m#Sanity Checks \u001b[39;00m\n\u001b[0;32m     <a href='vscode-notebook-cell:/c%3A/Users/Student/Downloads/RGBImageGrab.ipynb#W6sZmlsZQ%3D%3D?line=32'>33</a>\u001b[0m \u001b[39m#print(sys.getsizeof(packet))\u001b[39;00m\n\u001b[0;32m     <a href='vscode-notebook-cell:/c%3A/Users/Student/Downloads/RGBImageGrab.ipynb#W6sZmlsZQ%3D%3D?line=33'>34</a>\u001b[0m \u001b[39m#print(packet)\u001b[39;00m\n\u001b[1;32m   (...)\u001b[0m\n\u001b[0;32m     <a href='vscode-notebook-cell:/c%3A/Users/Student/Downloads/RGBImageGrab.ipynb#W6sZmlsZQ%3D%3D?line=37'>38</a>\u001b[0m \n\u001b[0;32m     <a href='vscode-notebook-cell:/c%3A/Users/Student/Downloads/RGBImageGrab.ipynb#W6sZmlsZQ%3D%3D?line=38'>39</a>\u001b[0m \u001b[39m#Will \u001b[39;00m\n",
      "\u001b[1;31mTypeError\u001b[0m: object of type 'numpy.float64' has no len()"
     ]
    }
   ],
   "source": [
    "#Breaking Img Array for Transmisson \n",
    "# Limit 56 Bytes \n",
    "# Each Index Value is 25 bytes \n",
    "# Need to Transmit [indexX,indexX,colorCode,value]\n",
    "#colorCode\n",
    "    # R = 0 \n",
    "    # B = 1 \n",
    "    # G = 2\n",
    "\n",
    "#Method Used to Pack/Encode/Decode Current Values in LoRa\n",
    "import struct  \n",
    "#Packing pix num,color code,value \n",
    "row=0\n",
    "col=0\n",
    "while True:\n",
    "    \n",
    "    #mock data transmission \n",
    "    #Actual \n",
    "    # ser.write(struct.pack('iii',3000,1,image[0,5,1]))\n",
    "    #Mock \n",
    "    packet=struct.pack('iii',row,col,image[0,0,1])\n",
    "    testArr=np.append(testArr,[row,col,image[row,col,1]])\n",
    "    row=row+1\n",
    "    #col=col+1\n",
    "\n",
    "    #except KeyboardInterrupt:\n",
    "     #   print(\"Exit\")\n",
    "\n",
    "    #if row == len(image):\n",
    "    if row == len(testArr[0]):\n",
    "        break;\n",
    "#Sanity Checks \n",
    "#print(sys.getsizeof(packet))\n",
    "#print(packet)\n",
    "\n",
    "\n",
    "   # print(struct.unpack('iii',packet))\n",
    "\n",
    "#Will "
   ]
  },
  {
   "cell_type": "code",
   "execution_count": 39,
   "metadata": {},
   "outputs": [],
   "source": [
    "#Image Reconstruction \n",
    "recImg[:,:,0] = np.ones([len(image),len(image[0])])*image[:,:,0]\n",
    "recImg[:,:,1] = np.ones([len(image),len(image[0])])*image[:,:,1]\n",
    "recImg[:,:,2] = np.ones([len(image),len(image[0])])*image[:,:,2]\n",
    "\n",
    "#cv2.imwrite('color_img.jpg', recImg)\n",
    "cv2.imshow(\"Reconstructed Image \", recImg)\n",
    "cv2.waitKey(0)\n",
    "\n",
    "cv2.destroyAllWindows() "
   ]
  },
  {
   "cell_type": "code",
   "execution_count": null,
   "metadata": {},
   "outputs": [],
   "source": [
    "#Mock Packet Loss\n",
    "\n",
    "#print(testArr)\n",
    "\n",
    "\n"
   ]
  }
 ],
 "metadata": {
  "kernelspec": {
   "display_name": "Python 3",
   "language": "python",
   "name": "python3"
  },
  "language_info": {
   "codemirror_mode": {
    "name": "ipython",
    "version": 3
   },
   "file_extension": ".py",
   "mimetype": "text/x-python",
   "name": "python",
   "nbconvert_exporter": "python",
   "pygments_lexer": "ipython3",
   "version": "3.11.6"
  }
 },
 "nbformat": 4,
 "nbformat_minor": 2
}
